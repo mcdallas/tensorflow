{
 "cells": [
  {
   "cell_type": "markdown",
   "metadata": {
    "colab_type": "text",
    "id": "kR-4eNdK6lYS"
   },
   "source": [
    "Deep Learning\n",
    "=============\n",
    "\n",
    "Assignment 2\n",
    "------------\n",
    "\n",
    "Previously in `1_notmnist.ipynb`, we created a pickle with formatted datasets for training, development and testing on the [notMNIST dataset](http://yaroslavvb.blogspot.com/2011/09/notmnist-dataset.html).\n",
    "\n",
    "The goal of this assignment is to progressively train deeper and more accurate models using TensorFlow."
   ]
  },
  {
   "cell_type": "code",
   "execution_count": 78,
   "metadata": {
    "cellView": "both",
    "colab": {
     "autoexec": {
      "startup": false,
      "wait_interval": 0
     }
    },
    "colab_type": "code",
    "collapsed": false,
    "id": "JLpLa8Jt7Vu4"
   },
   "outputs": [],
   "source": [
    "# These are all the modules we'll be using later. Make sure you can import them\n",
    "# before proceeding further.\n",
    "import numpy as np\n",
    "import tensorflow as tf\n",
    "from six.moves import cPickle as pickle\n",
    "from six.moves import range\n",
    "from tqdm import tqdm_notebook, tnrange\n",
    "import random"
   ]
  },
  {
   "cell_type": "code",
   "execution_count": 12,
   "metadata": {
    "collapsed": false
   },
   "outputs": [
    {
     "data": {
      "text/plain": [
       "'0.11.0rc2'"
      ]
     },
     "execution_count": 12,
     "metadata": {},
     "output_type": "execute_result"
    }
   ],
   "source": []
  },
  {
   "cell_type": "markdown",
   "metadata": {
    "colab_type": "text",
    "id": "1HrCK6e17WzV"
   },
   "source": [
    "First reload the data we generated in `1_notmnist.ipynb`."
   ]
  },
  {
   "cell_type": "code",
   "execution_count": 2,
   "metadata": {
    "cellView": "both",
    "colab": {
     "autoexec": {
      "startup": false,
      "wait_interval": 0
     },
     "output_extras": [
      {
       "item_id": 1
      }
     ]
    },
    "colab_type": "code",
    "collapsed": false,
    "executionInfo": {
     "elapsed": 19456,
     "status": "ok",
     "timestamp": 1449847956073,
     "user": {
      "color": "",
      "displayName": "",
      "isAnonymous": false,
      "isMe": true,
      "permissionId": "",
      "photoUrl": "",
      "sessionId": "0",
      "userId": ""
     },
     "user_tz": 480
    },
    "id": "y3-cj1bpmuxc",
    "outputId": "0ddb1607-1fc4-4ddb-de28-6c7ab7fb0c33"
   },
   "outputs": [
    {
     "name": "stdout",
     "output_type": "stream",
     "text": [
      "Training set (200000, 28, 28) (200000,)\n",
      "Validation set (10000, 28, 28) (10000,)\n",
      "Test set (10000, 28, 28) (10000,)\n"
     ]
    }
   ],
   "source": [
    "pickle_file = 'notMNIST.pickle'\n",
    "\n",
    "with open(pickle_file, 'rb') as f:\n",
    "  save = pickle.load(f)\n",
    "  train_dataset = save['train_dataset']\n",
    "  train_labels = save['train_labels']\n",
    "  valid_dataset = save['valid_dataset']\n",
    "  valid_labels = save['valid_labels']\n",
    "  test_dataset = save['test_dataset']\n",
    "  test_labels = save['test_labels']\n",
    "  del save  # hint to help gc free up memory\n",
    "  print('Training set', train_dataset.shape, train_labels.shape)\n",
    "  print('Validation set', valid_dataset.shape, valid_labels.shape)\n",
    "  print('Test set', test_dataset.shape, test_labels.shape)"
   ]
  },
  {
   "cell_type": "markdown",
   "metadata": {
    "colab_type": "text",
    "id": "L7aHrm6nGDMB"
   },
   "source": [
    "Reformat into a shape that's more adapted to the models we're going to train:\n",
    "- data as a flat matrix,\n",
    "- labels as float 1-hot encodings."
   ]
  },
  {
   "cell_type": "code",
   "execution_count": 3,
   "metadata": {
    "cellView": "both",
    "colab": {
     "autoexec": {
      "startup": false,
      "wait_interval": 0
     },
     "output_extras": [
      {
       "item_id": 1
      }
     ]
    },
    "colab_type": "code",
    "collapsed": false,
    "executionInfo": {
     "elapsed": 19723,
     "status": "ok",
     "timestamp": 1449847956364,
     "user": {
      "color": "",
      "displayName": "",
      "isAnonymous": false,
      "isMe": true,
      "permissionId": "",
      "photoUrl": "",
      "sessionId": "0",
      "userId": ""
     },
     "user_tz": 480
    },
    "id": "IRSyYiIIGIzS",
    "outputId": "2ba0fc75-1487-4ace-a562-cf81cae82793"
   },
   "outputs": [
    {
     "name": "stdout",
     "output_type": "stream",
     "text": [
      "Training set (187361, 784) (187361, 10)\n",
      "Validation set (8900, 784) (8900, 10)\n",
      "Test set (9738, 784) (9738, 10)\n"
     ]
    }
   ],
   "source": [
    "image_size = 28\n",
    "num_labels = 10\n",
    "\n",
    "def reformat(dataset, labels):\n",
    "  dataset = dataset.reshape((-1, image_size * image_size)).astype(np.float32)\n",
    "  # Map 0 to [1.0, 0.0, 0.0 ...], 1 to [0.0, 1.0, 0.0 ...]\n",
    "  labels = (np.arange(num_labels) == labels[:,None]).astype(np.float32)\n",
    "  return dataset, labels\n",
    "train_dataset, train_labels = reformat(train_dataset, train_labels)\n",
    "valid_dataset, valid_labels = reformat(valid_dataset, valid_labels)\n",
    "test_dataset, test_labels = reformat(test_dataset, test_labels)\n",
    "print('Training set', train_dataset.shape, train_labels.shape)\n",
    "print('Validation set', valid_dataset.shape, valid_labels.shape)\n",
    "print('Test set', test_dataset.shape, test_labels.shape)"
   ]
  },
  {
   "cell_type": "markdown",
   "metadata": {
    "colab_type": "text",
    "id": "nCLVqyQ5vPPH"
   },
   "source": [
    "We're first going to train a multinomial logistic regression using simple gradient descent.\n",
    "\n",
    "TensorFlow works like this:\n",
    "* First you describe the computation that you want to see performed: what the inputs, the variables, and the operations look like. These get created as nodes over a computation graph. This description is all contained within the block below:\n",
    "\n",
    "      with graph.as_default():\n",
    "          ...\n",
    "\n",
    "* Then you can run the operations on this graph as many times as you want by calling `session.run()`, providing it outputs to fetch from the graph that get returned. This runtime operation is all contained in the block below:\n",
    "\n",
    "      with tf.Session(graph=graph) as session:\n",
    "          ...\n",
    "\n",
    "Let's load all the data into TensorFlow and build the computation graph corresponding to our training:"
   ]
  },
  {
   "cell_type": "code",
   "execution_count": 9,
   "metadata": {
    "cellView": "both",
    "colab": {
     "autoexec": {
      "startup": false,
      "wait_interval": 0
     }
    },
    "colab_type": "code",
    "collapsed": true,
    "id": "Nfv39qvtvOl_"
   },
   "outputs": [],
   "source": [
    "# With gradient descent training, even this much data is prohibitive.\n",
    "# Subset the training data for faster turnaround.\n",
    "train_subset = 10000\n",
    "\n",
    "graph = tf.Graph()\n",
    "with graph.as_default():\n",
    "\n",
    "  # Input data.\n",
    "  # Load the training, validation and test data into constants that are\n",
    "  # attached to the graph.\n",
    "  tf_train_dataset = tf.constant(train_dataset[:train_subset, :])\n",
    "  tf_train_labels = tf.constant(train_labels[:train_subset])\n",
    "  tf_valid_dataset = tf.constant(valid_dataset)\n",
    "  tf_test_dataset = tf.constant(test_dataset)\n",
    "  \n",
    "  # Variables.\n",
    "  # These are the parameters that we are going to be training. The weight\n",
    "  # matrix will be initialized using random values following a (truncated)\n",
    "  # normal distribution. The biases get initialized to zero.\n",
    "  weights = tf.Variable(\n",
    "    tf.truncated_normal([image_size * image_size, num_labels]))\n",
    "  biases = tf.Variable(tf.zeros([num_labels]))\n",
    "  \n",
    "  # Training computation.\n",
    "  # We multiply the inputs with the weight matrix, and add biases. We compute\n",
    "  # the softmax and cross-entropy (it's one operation in TensorFlow, because\n",
    "  # it's very common, and it can be optimized). We take the average of this\n",
    "  # cross-entropy across all training examples: that's our loss.\n",
    "  logits = tf.matmul(tf_train_dataset, weights) + biases\n",
    "  loss = tf.reduce_mean(\n",
    "    tf.nn.softmax_cross_entropy_with_logits(logits, tf_train_labels))\n",
    "  \n",
    "  # Optimizer.\n",
    "  # We are going to find the minimum of this loss using gradient descent.\n",
    "  optimizer = tf.train.GradientDescentOptimizer(0.5).minimize(loss)\n",
    "  \n",
    "  # Predictions for the training, validation, and test data.\n",
    "  # These are not part of training, but merely here so that we can report\n",
    "  # accuracy figures as we train.\n",
    "  train_prediction = tf.nn.softmax(logits)\n",
    "  valid_prediction = tf.nn.softmax(\n",
    "    tf.matmul(tf_valid_dataset, weights) + biases)\n",
    "  test_prediction = tf.nn.softmax(tf.matmul(tf_test_dataset, weights) + biases)"
   ]
  },
  {
   "cell_type": "markdown",
   "metadata": {
    "colab_type": "text",
    "id": "KQcL4uqISHjP"
   },
   "source": [
    "Let's run this computation and iterate:"
   ]
  },
  {
   "cell_type": "code",
   "execution_count": 13,
   "metadata": {
    "cellView": "both",
    "colab": {
     "autoexec": {
      "startup": false,
      "wait_interval": 0
     },
     "output_extras": [
      {
       "item_id": 9
      }
     ]
    },
    "colab_type": "code",
    "collapsed": false,
    "executionInfo": {
     "elapsed": 57454,
     "status": "ok",
     "timestamp": 1449847994134,
     "user": {
      "color": "",
      "displayName": "",
      "isAnonymous": false,
      "isMe": true,
      "permissionId": "",
      "photoUrl": "",
      "sessionId": "0",
      "userId": ""
     },
     "user_tz": 480
    },
    "id": "z2cjdenH869W",
    "outputId": "4c037ba1-b526-4d8e-e632-91e2a0333267"
   },
   "outputs": [
    {
     "name": "stdout",
     "output_type": "stream",
     "text": [
      "Initialized\n",
      "Loss at step 0: 18.303099\n",
      "Training accuracy: 7.1%\n",
      "Validation accuracy: 10.6%\n",
      "Loss at step 100: 2.380372\n",
      "Training accuracy: 72.0%\n",
      "Validation accuracy: 70.9%\n",
      "Loss at step 200: 1.891251\n",
      "Training accuracy: 74.6%\n",
      "Validation accuracy: 73.2%\n",
      "Loss at step 300: 1.632010\n",
      "Training accuracy: 76.2%\n",
      "Validation accuracy: 74.1%\n",
      "Loss at step 400: 1.462605\n",
      "Training accuracy: 77.0%\n",
      "Validation accuracy: 74.5%\n",
      "Loss at step 500: 1.339857\n",
      "Training accuracy: 77.8%\n",
      "Validation accuracy: 74.8%\n",
      "Loss at step 600: 1.244420\n",
      "Training accuracy: 78.3%\n",
      "Validation accuracy: 74.9%\n",
      "Loss at step 700: 1.167014\n",
      "Training accuracy: 78.7%\n",
      "Validation accuracy: 75.2%\n",
      "Loss at step 800: 1.102619\n",
      "Training accuracy: 79.2%\n",
      "Validation accuracy: 75.3%\n",
      "Test accuracy: 82.9%\n"
     ]
    }
   ],
   "source": [
    "num_steps = 801\n",
    "\n",
    "def accuracy(predictions, labels):\n",
    "  return (100.0 * np.sum(np.argmax(predictions, 1) == np.argmax(labels, 1))\n",
    "          / predictions.shape[0])\n",
    "\n",
    "with tf.Session(graph=graph) as session:\n",
    "  # This is a one-time operation which ensures the parameters get initialized as\n",
    "  # we described in the graph: random weights for the matrix, zeros for the\n",
    "  # biases. \n",
    "  tf.initialize_all_variables().run()\n",
    "  print('Initialized')\n",
    "  for step in range(num_steps):\n",
    "    # Run the computations. We tell .run() that we want to run the optimizer,\n",
    "    # and get the loss value and the training predictions returned as numpy\n",
    "    # arrays.\n",
    "    _, l, predictions = session.run([optimizer, loss, train_prediction])\n",
    "    if (step % 100 == 0):\n",
    "      print('Loss at step %d: %f' % (step, l))\n",
    "      print('Training accuracy: %.1f%%' % accuracy(\n",
    "        predictions, train_labels[:train_subset, :]))\n",
    "      # Calling .eval() on valid_prediction is basically like calling run(), but\n",
    "      # just to get that one numpy array. Note that it recomputes all its graph\n",
    "      # dependencies.\n",
    "      print('Validation accuracy: %.1f%%' % accuracy(\n",
    "        valid_prediction.eval(), valid_labels))\n",
    "  print('Test accuracy: %.1f%%' % accuracy(test_prediction.eval(), test_labels))"
   ]
  },
  {
   "cell_type": "markdown",
   "metadata": {
    "colab_type": "text",
    "id": "x68f-hxRGm3H"
   },
   "source": [
    "Let's now switch to stochastic gradient descent training instead, which is much faster.\n",
    "\n",
    "The graph will be similar, except that instead of holding all the training data into a constant node, we create a `Placeholder` node which will be fed actual data at every call of `session.run()`."
   ]
  },
  {
   "cell_type": "code",
   "execution_count": 14,
   "metadata": {
    "cellView": "both",
    "colab": {
     "autoexec": {
      "startup": false,
      "wait_interval": 0
     }
    },
    "colab_type": "code",
    "collapsed": true,
    "id": "qhPMzWYRGrzM"
   },
   "outputs": [],
   "source": [
    "batch_size = 128\n",
    "\n",
    "graph = tf.Graph()\n",
    "with graph.as_default():\n",
    "\n",
    "  # Input data. For the training data, we use a placeholder that will be fed\n",
    "  # at run time with a training minibatch.\n",
    "  tf_train_dataset = tf.placeholder(tf.float32,\n",
    "                                    shape=(batch_size, image_size * image_size))\n",
    "  tf_train_labels = tf.placeholder(tf.float32, shape=(batch_size, num_labels))\n",
    "  tf_valid_dataset = tf.constant(valid_dataset)\n",
    "  tf_test_dataset = tf.constant(test_dataset)\n",
    "  \n",
    "  # Variables.\n",
    "  weights = tf.Variable(\n",
    "    tf.truncated_normal([image_size * image_size, num_labels]))\n",
    "  biases = tf.Variable(tf.zeros([num_labels]))\n",
    "  \n",
    "  # Training computation.\n",
    "  logits = tf.matmul(tf_train_dataset, weights) + biases\n",
    "  loss = tf.reduce_mean(\n",
    "    tf.nn.softmax_cross_entropy_with_logits(logits, tf_train_labels))\n",
    "  \n",
    "  # Optimizer.\n",
    "  optimizer = tf.train.GradientDescentOptimizer(0.5).minimize(loss)\n",
    "  \n",
    "  # Predictions for the training, validation, and test data.\n",
    "  train_prediction = tf.nn.softmax(logits)\n",
    "  valid_prediction = tf.nn.softmax(\n",
    "    tf.matmul(tf_valid_dataset, weights) + biases)\n",
    "  test_prediction = tf.nn.softmax(tf.matmul(tf_test_dataset, weights) + biases)"
   ]
  },
  {
   "cell_type": "markdown",
   "metadata": {
    "colab_type": "text",
    "id": "XmVZESmtG4JH"
   },
   "source": [
    "Let's run it:"
   ]
  },
  {
   "cell_type": "code",
   "execution_count": 17,
   "metadata": {
    "cellView": "both",
    "colab": {
     "autoexec": {
      "startup": false,
      "wait_interval": 0
     },
     "output_extras": [
      {
       "item_id": 6
      }
     ]
    },
    "colab_type": "code",
    "collapsed": false,
    "executionInfo": {
     "elapsed": 66292,
     "status": "ok",
     "timestamp": 1449848003013,
     "user": {
      "color": "",
      "displayName": "",
      "isAnonymous": false,
      "isMe": true,
      "permissionId": "",
      "photoUrl": "",
      "sessionId": "0",
      "userId": ""
     },
     "user_tz": 480
    },
    "id": "FoF91pknG_YW",
    "outputId": "d255c80e-954d-4183-ca1c-c7333ce91d0a"
   },
   "outputs": [
    {
     "name": "stdout",
     "output_type": "stream",
     "text": [
      "Initialized\n",
      "Minibatch loss at step 0: 16.205093\n",
      "Minibatch accuracy: 10.2%\n",
      "Validation accuracy: 13.5%\n",
      "Minibatch loss at step 500: 1.634712\n",
      "Minibatch accuracy: 76.6%\n",
      "Validation accuracy: 75.9%\n",
      "Minibatch loss at step 1000: 1.560967\n",
      "Minibatch accuracy: 74.2%\n",
      "Validation accuracy: 76.1%\n",
      "Minibatch loss at step 1500: 1.057541\n",
      "Minibatch accuracy: 79.7%\n",
      "Validation accuracy: 77.0%\n",
      "Minibatch loss at step 2000: 0.932328\n",
      "Minibatch accuracy: 80.5%\n",
      "Validation accuracy: 77.6%\n",
      "Minibatch loss at step 2500: 1.025495\n",
      "Minibatch accuracy: 72.7%\n",
      "Validation accuracy: 78.4%\n",
      "Minibatch loss at step 3000: 1.168621\n",
      "Minibatch accuracy: 78.1%\n",
      "Validation accuracy: 78.0%\n",
      "Test accuracy: 85.2%\n"
     ]
    }
   ],
   "source": [
    "num_steps = 3001\n",
    "\n",
    "with tf.Session(graph=graph) as session:\n",
    "  tf.initialize_all_variables().run()\n",
    "  print(\"Initialized\")\n",
    "  for step in range(num_steps):\n",
    "    # Pick an offset within the training data, which has been randomized.\n",
    "    # Note: we could use better randomization across epochs.\n",
    "    offset = (step * batch_size) % (train_labels.shape[0] - batch_size)\n",
    "    # Generate a minibatch.\n",
    "    batch_data = train_dataset[offset:(offset + batch_size), :]\n",
    "    batch_labels = train_labels[offset:(offset + batch_size), :]\n",
    "    # Prepare a dictionary telling the session where to feed the minibatch.\n",
    "    # The key of the dictionary is the placeholder node of the graph to be fed,\n",
    "    # and the value is the numpy array to feed to it.\n",
    "    feed_dict = {tf_train_dataset : batch_data, tf_train_labels : batch_labels}\n",
    "    _, l, predictions = session.run(\n",
    "      [optimizer, loss, train_prediction], feed_dict=feed_dict)\n",
    "    if (step % 500 == 0):\n",
    "      print(\"Minibatch loss at step %d: %f\" % (step, l))\n",
    "      print(\"Minibatch accuracy: %.1f%%\" % accuracy(predictions, batch_labels))\n",
    "      print(\"Validation accuracy: %.1f%%\" % accuracy(\n",
    "        valid_prediction.eval(), valid_labels))\n",
    "  print(\"Test accuracy: %.1f%%\" % accuracy(test_prediction.eval(), test_labels))"
   ]
  },
  {
   "cell_type": "markdown",
   "metadata": {
    "colab_type": "text",
    "id": "7omWxtvLLxik"
   },
   "source": [
    "---\n",
    "Problem\n",
    "-------\n",
    "\n",
    "Turn the logistic regression example with SGD into a 1-hidden layer neural network with rectified linear units [nn.relu()](https://www.tensorflow.org/versions/r0.7/api_docs/python/nn.html#relu) and 1024 hidden nodes. This model should improve your validation / test accuracy.\n",
    "\n",
    "---"
   ]
  },
  {
   "cell_type": "code",
   "execution_count": 2,
   "metadata": {
    "collapsed": false
   },
   "outputs": [
    {
     "name": "stdout",
     "output_type": "stream",
     "text": [
      "Training set (187361, 28, 28) (187361,)\n",
      "Validation set (8900, 28, 28) (8900,)\n",
      "Test set (9738, 28, 28) (9738,)\n"
     ]
    }
   ],
   "source": [
    "pickle_ = 'sanitized.pickle'\n",
    "\n",
    "with open(pickle_, 'rb') as f:\n",
    "  save = pickle.load(f)\n",
    "  train_dataset = save['sanitized_train']\n",
    "  train_labels = save['san_train_labels']\n",
    "  valid_dataset = save['cross_sanitized_valid']\n",
    "  valid_labels = save['cross_san_valid_labels']\n",
    "  test_dataset = save['cross_sanitized_test']\n",
    "  test_labels = save['cross_san_test_labels']\n",
    "  del save  # hint to help gc free up memory\n",
    "  print('Training set', train_dataset.shape, train_labels.shape)\n",
    "  print('Validation set', valid_dataset.shape, valid_labels.shape)\n",
    "  print('Test set', test_dataset.shape, test_labels.shape)"
   ]
  },
  {
   "cell_type": "code",
   "execution_count": 5,
   "metadata": {
    "collapsed": false
   },
   "outputs": [
    {
     "name": "stdout",
     "output_type": "stream",
     "text": [
      "Training set (187361, 784) (187361, 10)\n",
      "Validation set (8900, 784) (8900, 10)\n",
      "Test set (9738, 784) (9738, 10)\n"
     ]
    }
   ],
   "source": [
    "train_dataset, train_labels = reformat(train_dataset, train_labels)\n",
    "valid_dataset, valid_labels = reformat(valid_dataset, valid_labels)\n",
    "test_dataset, test_labels = reformat(test_dataset, test_labels)\n",
    "print('Training set', train_dataset.shape, train_labels.shape)\n",
    "print('Validation set', valid_dataset.shape, valid_labels.shape)\n",
    "print('Test set', test_dataset.shape, test_labels.shape)"
   ]
  },
  {
   "cell_type": "code",
   "execution_count": 4,
   "metadata": {
    "collapsed": true
   },
   "outputs": [],
   "source": [
    "def accuracy(predictions, labels):\n",
    "  return (100.0 * np.sum(np.argmax(predictions, 1) == np.argmax(labels, 1))\n",
    "          / predictions.shape[0])"
   ]
  },
  {
   "cell_type": "code",
   "execution_count": 5,
   "metadata": {
    "collapsed": false
   },
   "outputs": [
    {
     "data": {
      "text/plain": [
       "2.3999999999999999"
      ]
     },
     "execution_count": 5,
     "metadata": {},
     "output_type": "execute_result"
    }
   ],
   "source": [
    "accuracy(train_dataset[:1000, :], train_labels[:1000])"
   ]
  },
  {
   "cell_type": "code",
   "execution_count": 62,
   "metadata": {
    "collapsed": false
   },
   "outputs": [],
   "source": [
    "subset = 2000\n",
    "learning_rate = 0.5\n",
    "\n",
    "graph = tf.Graph()\n",
    "with graph.as_default():\n",
    "    ### Tensors\n",
    "    # Constants\n",
    "    train_tensor = tf.constant(train_dataset[:subset, :])\n",
    "    train_lab_tensor = tf.constant(train_labels[:subset])\n",
    "    validation_tensor = tf.constant(valid_dataset)\n",
    "    valid_lab_tensor = tf.constant(valid_labels)\n",
    "        \n",
    "    # Tensors that are going to be calibrated\n",
    "    weights = tf.Variable(\n",
    "        tf.truncated_normal([image_size * image_size, num_labels]))\n",
    "    \n",
    "    biases = tf.Variable(tf.zeros([num_labels]))\n",
    "    \n",
    "    ### Operations\n",
    "    logits = tf.matmul(train_tensor, weights) + biases\n",
    "    loss = tf.reduce_mean(\n",
    "        tf.nn.softmax_cross_entropy_with_logits(logits, train_lab_tensor)\n",
    "    )\n",
    "    \n",
    "    ### Optimizer\n",
    "    optimizer = tf.train.GradientDescentOptimizer(learning_rate).minimize(loss)\n",
    "    \n",
    "    ### More Operations\n",
    "    # These are merely to report progress\n",
    "    train_probabilities = tf.nn.softmax(logits)\n",
    "    validation_logits = tf.matmul(validation_tensor, weights) + biases\n",
    "    validation_probabilities = tf.nn.softmax(validation_logits)\n",
    "        "
   ]
  },
  {
   "cell_type": "code",
   "execution_count": 63,
   "metadata": {
    "collapsed": false,
    "scrolled": true
   },
   "outputs": [
    {
     "name": "stdout",
     "output_type": "stream",
     "text": [
      "Loss at step 0: 18.450094\n",
      "Training accuracy: 12.8%\n",
      "Validation accuracy: 14.0%\n",
      "Loss at step 100: 1.882128\n",
      "Training accuracy: 74.5%\n",
      "Validation accuracy: 67.6%\n",
      "Loss at step 200: 1.304855\n",
      "Training accuracy: 78.5%\n",
      "Validation accuracy: 69.0%\n",
      "Loss at step 300: 0.985207\n",
      "Training accuracy: 81.6%\n",
      "Validation accuracy: 69.4%\n",
      "Loss at step 400: 0.776982\n",
      "Training accuracy: 83.8%\n",
      "Validation accuracy: 69.7%\n",
      "Loss at step 500: 0.633967\n",
      "Training accuracy: 86.7%\n",
      "Validation accuracy: 69.9%\n",
      "Loss at step 600: 0.529363\n",
      "Training accuracy: 89.1%\n",
      "Validation accuracy: 70.1%\n",
      "Loss at step 700: 0.448411\n",
      "Training accuracy: 91.0%\n",
      "Validation accuracy: 70.1%\n",
      "Loss at step 800: 0.383531\n",
      "Training accuracy: 92.0%\n",
      "Validation accuracy: 70.1%\n",
      "Loss at step 900: 0.331070\n",
      "Training accuracy: 93.2%\n",
      "Validation accuracy: 70.0%\n",
      "Loss at step 1000: 0.288507\n",
      "Training accuracy: 94.0%\n",
      "Validation accuracy: 70.1%\n",
      "Loss at step 1100: 0.253692\n",
      "Training accuracy: 94.9%\n",
      "Validation accuracy: 70.2%\n",
      "Loss at step 1200: 0.224931\n",
      "Training accuracy: 95.6%\n",
      "Validation accuracy: 70.2%\n",
      "Loss at step 1300: 0.201005\n",
      "Training accuracy: 96.4%\n",
      "Validation accuracy: 70.1%\n",
      "Loss at step 1400: 0.180925\n",
      "Training accuracy: 97.3%\n",
      "Validation accuracy: 70.2%\n",
      "Loss at step 1500: 0.163864\n",
      "Training accuracy: 97.6%\n",
      "Validation accuracy: 70.2%\n",
      "Loss at step 1600: 0.149177\n",
      "Training accuracy: 97.8%\n",
      "Validation accuracy: 70.2%\n",
      "Loss at step 1700: 0.136392\n",
      "Training accuracy: 98.1%\n",
      "Validation accuracy: 70.2%\n",
      "Loss at step 1800: 0.125178\n",
      "Training accuracy: 98.2%\n",
      "Validation accuracy: 70.3%\n",
      "Loss at step 1900: 0.115299\n",
      "Training accuracy: 98.5%\n",
      "Validation accuracy: 70.3%\n",
      "\n",
      "Test accuracy: 70.3%\n"
     ]
    }
   ],
   "source": [
    "steps = 2000\n",
    "\n",
    "def accuracy(predictions, labels):\n",
    "  return (100.0 * np.sum(np.argmax(predictions, 1) == np.argmax(labels, 1))\n",
    "          / predictions.shape[0])\n",
    "\n",
    "with tf.Session(graph=graph) as session:\n",
    "    tf.initialize_all_variables().run()\n",
    "    with tqdm_notebook(range(steps), desc='Running..') as bar:\n",
    "        for step in bar:\n",
    "            _, l, prob = session.run([optimizer, loss, train_probabilities])\n",
    "            if not step % 100:\n",
    "                tqdm.write('Loss at step %d: %f' % (step, l))\n",
    "                tqdm.write('Training accuracy: %.1f%%' % accuracy(\n",
    "                        prob, train_labels[:subset])\n",
    "                          )\n",
    "                tqdm.write('Validation accuracy: %.1f%%' % accuracy(\n",
    "                        validation_probabilities.eval(), valid_labels))\n",
    "                \n",
    "        tqdm.write('Test accuracy: %.1f%%' % accuracy(validation_probabilities.eval(), valid_labels))\n",
    "        "
   ]
  },
  {
   "cell_type": "code",
   "execution_count": 68,
   "metadata": {
    "collapsed": false
   },
   "outputs": [],
   "source": [
    "batch_size = 256\n",
    "learning_rate = 0.3\n",
    "\n",
    "graph = tf.Graph()\n",
    "with graph.as_default():\n",
    "    tf_train_dataset = tf.placeholder(tf.float32, shape=(batch_size, image_size * image_size))\n",
    "    tf_train_labels = tf.placeholder(tf.float32, shape=(batch_size, num_labels))\n",
    "    tf_valid_dataset = tf.constant(valid_dataset)\n",
    "    \n",
    "    weights = tf.Variable(tf.truncated_normal([image_size * image_size, num_labels]))\n",
    "    biases = tf.Variable(tf.zeros([num_labels]))\n",
    "    \n",
    "    logits = tf.matmul(tf_train_dataset, weights) + biases\n",
    "    loss = tf.reduce_mean(\n",
    "        tf.nn.softmax_cross_entropy_with_logits(logits, tf_train_labels)\n",
    "    )\n",
    "    \n",
    "    optimizer = tf.train.GradientDescentOptimizer(learning_rate).minimize(loss)\n",
    "    \n",
    "    train_prediction = tf.nn.softmax(logits)\n",
    "    valid_prediction = tf.nn.softmax(tf.matmul(tf_valid_dataset, weights) + biases)\n",
    "    #whole_dataset = tf.constant(train_dataset)\n",
    "    #total_accuracy = tf.nn.softmax(tf.matmul(whole_dataset, weights) + biases)\n",
    "        "
   ]
  },
  {
   "cell_type": "code",
   "execution_count": 69,
   "metadata": {
    "collapsed": false
   },
   "outputs": [
    {
     "name": "stdout",
     "output_type": "stream",
     "text": [
      "\n",
      "Minibatch loss at step 0: 19.379684\n",
      "Minibatch accuracy: 3.9%\n",
      "Validation accuracy: 8.5%\n",
      "Minibatch loss at step 1000: 1.432204\n",
      "Minibatch accuracy: 75.8%\n",
      "Validation accuracy: 74.1%\n",
      "Minibatch loss at step 2000: 0.914650\n",
      "Minibatch accuracy: 83.2%\n",
      "Validation accuracy: 75.3%\n",
      "Minibatch loss at step 3000: 0.946227\n",
      "Minibatch accuracy: 78.5%\n",
      "Validation accuracy: 76.1%\n",
      "Minibatch loss at step 4000: 0.993977\n",
      "Minibatch accuracy: 76.6%\n",
      "Validation accuracy: 77.1%\n",
      "Minibatch loss at step 5000: 1.060688\n",
      "Minibatch accuracy: 76.6%\n",
      "Validation accuracy: 77.2%\n",
      "Minibatch loss at step 6000: 0.834163\n",
      "Minibatch accuracy: 80.1%\n",
      "Validation accuracy: 77.8%\n",
      "Minibatch loss at step 7000: 0.743028\n",
      "Minibatch accuracy: 80.1%\n",
      "Validation accuracy: 77.9%\n",
      "Minibatch loss at step 8000: 1.068367\n",
      "Minibatch accuracy: 79.3%\n",
      "Validation accuracy: 78.2%\n",
      "Minibatch loss at step 9000: 0.767892\n",
      "Minibatch accuracy: 79.7%\n",
      "Validation accuracy: 78.9%\n",
      "Minibatch loss at step 10000: 0.675482\n",
      "Minibatch accuracy: 82.0%\n",
      "Validation accuracy: 78.8%\n",
      "Minibatch loss at step 11000: 0.723165\n",
      "Minibatch accuracy: 80.1%\n",
      "Validation accuracy: 79.0%\n",
      "Minibatch loss at step 12000: 0.884839\n",
      "Minibatch accuracy: 78.5%\n",
      "Validation accuracy: 79.2%\n",
      "Minibatch loss at step 13000: 0.675354\n",
      "Minibatch accuracy: 82.8%\n",
      "Validation accuracy: 79.3%\n",
      "Minibatch loss at step 14000: 0.649787\n",
      "Minibatch accuracy: 80.1%\n",
      "Validation accuracy: 79.5%\n",
      "Minibatch loss at step 15000: 0.891360\n",
      "Minibatch accuracy: 78.1%\n",
      "Validation accuracy: 79.5%\n",
      "Minibatch loss at step 16000: 0.669551\n",
      "Minibatch accuracy: 80.1%\n",
      "Validation accuracy: 79.5%\n",
      "Minibatch loss at step 17000: 0.753450\n",
      "Minibatch accuracy: 80.5%\n",
      "Validation accuracy: 80.2%\n",
      "Minibatch loss at step 18000: 0.739586\n",
      "Minibatch accuracy: 81.6%\n",
      "Validation accuracy: 79.9%\n",
      "Minibatch loss at step 19000: 0.524807\n",
      "Minibatch accuracy: 84.4%\n",
      "Validation accuracy: 80.0%\n",
      "Minibatch loss at step 20000: 0.762877\n",
      "Minibatch accuracy: 80.9%\n",
      "Validation accuracy: 80.2%\n",
      "Minibatch loss at step 21000: 0.634353\n",
      "Minibatch accuracy: 82.4%\n",
      "Validation accuracy: 80.0%\n",
      "Minibatch loss at step 22000: 0.719576\n",
      "Minibatch accuracy: 77.0%\n",
      "Validation accuracy: 80.4%\n",
      "Minibatch loss at step 23000: 0.755810\n",
      "Minibatch accuracy: 76.6%\n",
      "Validation accuracy: 80.1%\n",
      "Minibatch loss at step 24000: 0.647488\n",
      "Minibatch accuracy: 80.9%\n",
      "Validation accuracy: 80.3%\n",
      "Minibatch loss at step 25000: 0.643818\n",
      "Minibatch accuracy: 82.8%\n",
      "Validation accuracy: 80.5%\n",
      "Minibatch loss at step 26000: 0.772089\n",
      "Minibatch accuracy: 79.3%\n",
      "Validation accuracy: 80.2%\n",
      "Minibatch loss at step 27000: 0.681706\n",
      "Minibatch accuracy: 82.4%\n",
      "Validation accuracy: 80.7%\n",
      "Minibatch loss at step 28000: 0.589306\n",
      "Minibatch accuracy: 85.9%\n",
      "Validation accuracy: 80.6%\n",
      "Minibatch loss at step 29000: 0.670452\n",
      "Minibatch accuracy: 82.4%\n",
      "Validation accuracy: 80.4%\n",
      "\n"
     ]
    }
   ],
   "source": [
    "steps = 30000\n",
    "length = len(train_labels)\n",
    "\n",
    "with tf.Session(graph=graph) as session:\n",
    "    tf.initialize_all_variables().run()\n",
    "    with tqdm_notebook(range(steps), desc='Optimizing..') as bar:\n",
    "        for step in bar:\n",
    "            offset = random.randint(1, length - batch_size)\n",
    "            \n",
    "            batch_data = train_dataset[offset:(offset + batch_size), :]\n",
    "            batch_labels = train_labels[offset:(offset + batch_size), :]\n",
    "            \n",
    "            feed_dict = {tf_train_dataset: batch_data, tf_train_labels: batch_labels}\n",
    "                        \n",
    "            _, l, pred = session.run([optimizer, loss, train_prediction], feed_dict=feed_dict)\n",
    "            \n",
    "            if not step % 1000:\n",
    "                tqdm.write(\"Minibatch loss at step %d: %f\" % (step, l))\n",
    "                tqdm.write(\"Minibatch accuracy: %.1f%%\" % accuracy(pred,\n",
    "                                                                   batch_labels))\n",
    "                tqdm.write(\"Validation accuracy: %.1f%%\" % accuracy(\n",
    "                        valid_prediction.eval(), valid_labels))\n",
    "                \n",
    "        # tqdm.write(\"Train accuracy: %.1f%%\" % accuracy(total_accuracy.eval(), train_labels))\n",
    "       "
   ]
  },
  {
   "cell_type": "code",
   "execution_count": 73,
   "metadata": {
    "collapsed": false
   },
   "outputs": [],
   "source": [
    "batch = 128\n",
    "hidden_nodes = 1024\n",
    "learning_rate = 0.3"
   ]
  },
  {
   "cell_type": "code",
   "execution_count": 74,
   "metadata": {
    "collapsed": false,
    "scrolled": true
   },
   "outputs": [],
   "source": [
    "graph = tf.Graph()\n",
    "with graph.as_default():\n",
    "    # constants\n",
    "    train_tensor = tf.placeholder(tf.float32, shape=(batch, image_size * image_size))\n",
    "    label_tensor = tf.placeholder(tf.float32, shape=(batch, num_labels))\n",
    "    valid_tensor = tf.constant(valid_dataset)\n",
    "    valid_lab_tensor = tf.constant(valid_labels)\n",
    "    \n",
    "    # hidden layer\n",
    "    hidden_weights = tf.Variable(tf.truncated_normal(shape=(image_size * image_size, hidden_nodes)))\n",
    "    hidden_biases = tf.Variable(tf.zeros(hidden_nodes))\n",
    "    hidden_layer = tf.nn.relu(tf.matmul(train_tensor, hidden_weights) + hidden_biases)\n",
    "    \n",
    "    # output layer\n",
    "    weights = tf.Variable(tf.truncated_normal(shape=(hidden_nodes, num_labels)))\n",
    "    biases = tf.Variable(tf.zeros(num_labels))\n",
    "    logits = tf.matmul(hidden_layer, weights) + biases\n",
    "    \n",
    "    # output\n",
    "    loss = tf.reduce_mean(tf.nn.softmax_cross_entropy_with_logits(logits, label_tensor))\n",
    "    \n",
    "    # optimizer\n",
    "    optimizer = tf.train.GradientDescentOptimizer(learning_rate).minimize(loss)\n",
    "    \n",
    "    # progress tensors\n",
    "    valid_relu = tf.nn.relu(tf.matmul(valid_tensor, hidden_weights) + hidden_biases)\n",
    "    validation_prediction = tf.nn.softmax(tf.matmul(valid_relu, weights) + biases)\n",
    "    train_prediction = tf.nn.softmax(logits)\n",
    "    \n",
    "                                  "
   ]
  },
  {
   "cell_type": "code",
   "execution_count": 83,
   "metadata": {
    "collapsed": false
   },
   "outputs": [
    {
     "name": "stdout",
     "output_type": "stream",
     "text": [
      "Minibatch loss: 319.170044\n",
      "Minibatch accuraccy: 12.5%\n",
      "Validation accuracy: 25.3%\n",
      "Minibatch loss: 31.381210\n",
      "Minibatch accuraccy: 75.0%\n",
      "Validation accuracy: 76.2%\n",
      "Minibatch loss: 46.387367\n",
      "Minibatch accuraccy: 71.1%\n",
      "Validation accuracy: 76.7%\n",
      "Minibatch loss: 30.930502\n",
      "Minibatch accuraccy: 80.5%\n",
      "Validation accuracy: 76.7%\n",
      "Minibatch loss: 37.441326\n",
      "Minibatch accuraccy: 75.8%\n",
      "Validation accuracy: 77.9%\n",
      "Minibatch loss: 18.686893\n",
      "Minibatch accuraccy: 78.1%\n",
      "Validation accuracy: 80.2%\n",
      "Minibatch loss: 11.944464\n",
      "Minibatch accuraccy: 80.5%\n",
      "Validation accuracy: 79.6%\n",
      "Minibatch loss: 9.669384\n",
      "Minibatch accuraccy: 84.4%\n",
      "Validation accuracy: 80.9%\n",
      "Minibatch loss: 13.537716\n",
      "Minibatch accuraccy: 82.8%\n",
      "Validation accuracy: 77.3%\n",
      "Minibatch loss: 5.701038\n",
      "Minibatch accuraccy: 83.6%\n",
      "Validation accuracy: 81.2%\n",
      "Minibatch loss: 8.222722\n",
      "Minibatch accuraccy: 83.6%\n",
      "Validation accuracy: 80.4%\n",
      "\n"
     ]
    }
   ],
   "source": [
    "steps = 1001\n",
    "with tf.Session(graph=graph) as session:\n",
    "    tf.initialize_all_variables().run()\n",
    "    with tnrange(steps, desc='Optimizing..') as bar:\n",
    "        for step in bar:\n",
    "            offset = random.randint(1, length - batch)\n",
    "            feed_data = train_dataset[offset: offset + batch]\n",
    "            feed_labels = train_labels[offset: offset + batch]\n",
    "            \n",
    "            feed_dict = {train_tensor: feed_data, label_tensor: feed_labels}\n",
    "            \n",
    "            _, l, pred = session.run([optimizer, loss, train_prediction], feed_dict=feed_dict)\n",
    "            \n",
    "\n",
    "            if not step % 100:\n",
    "                print('Minibatch loss: %f' % l)\n",
    "                print('Minibatch accuraccy: %.1f%%' % accuracy(pred, feed_labels))\n",
    "                print('Validation accuracy: %.1f%%' % accuracy(validation_prediction.eval(), valid_labels))"
   ]
  },
  {
   "cell_type": "code",
   "execution_count": null,
   "metadata": {
    "collapsed": true
   },
   "outputs": [],
   "source": []
  }
 ],
 "metadata": {
  "anaconda-cloud": {},
  "colab": {
   "default_view": {},
   "name": "2_fullyconnected.ipynb",
   "provenance": [],
   "version": "0.3.2",
   "views": {}
  },
  "kernelspec": {
   "display_name": "Python [conda env:tensorflow]",
   "language": "python",
   "name": "conda-env-tensorflow-py"
  },
  "language_info": {
   "codemirror_mode": {
    "name": "ipython",
    "version": 3
   },
   "file_extension": ".py",
   "mimetype": "text/x-python",
   "name": "python",
   "nbconvert_exporter": "python",
   "pygments_lexer": "ipython3",
   "version": "3.5.2"
  },
  "widgets": {
   "state": {
    "1715588134dc4b0db584beabdab57fbf": {
     "views": [
      {
       "cell_index": 23
      }
     ]
    },
    "2d63833661034c89a40826bb01f3d4a5": {
     "views": [
      {
       "cell_index": 26
      }
     ]
    },
    "522efca6b12a4cb4bfd64e3b2e45ac62": {
     "views": [
      {
       "cell_index": 26
      }
     ]
    },
    "8ac0e37b3983490199c5ad5c69d96716": {
     "views": [
      {
       "cell_index": 26
      }
     ]
    },
    "c2eebcf206e7424eba689a959be65a3b": {
     "views": [
      {
       "cell_index": 26
      }
     ]
    }
   },
   "version": "1.2.0"
  }
 },
 "nbformat": 4,
 "nbformat_minor": 0
}
